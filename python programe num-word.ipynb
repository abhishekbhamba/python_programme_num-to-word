{
 "cells": [
  {
   "cell_type": "code",
   "execution_count": 2,
   "id": "99ef9181",
   "metadata": {},
   "outputs": [
    {
     "name": "stdout",
     "output_type": "stream",
     "text": [
      "one four five "
     ]
    }
   ],
   "source": [
    "# from digit to word.\n",
    "\n",
    "def changevalue(digit):\n",
    "    if digit==\"0\":\n",
    "        print(\"zero\",end=\" \")\n",
    "    elif digit==\"1\":\n",
    "        print(\"one\",end=\" \")\n",
    "    elif digit==\"2\":\n",
    "        print(\"two\",end=\" \")\n",
    "    elif digit==\"3\":\n",
    "        print(\"three\",end=\" \")\n",
    "    elif digit==\"4\":\n",
    "        print(\"four\",end=\" \")\n",
    "    elif digit==\"5\":\n",
    "        print(\"five\",end=\" \")\n",
    "    elif digit==\"6\":\n",
    "        print(\"six\",end=\" \")\n",
    "    elif digit==\"7\":\n",
    "        print(\"seven\",end=\" \")\n",
    "    elif digit==\"8\":\n",
    "        print(\"eight\",end=\" \")\n",
    "    elif digit==\"9\":\n",
    "        print(\"nine\",end=\" \")\n",
    "        \n",
    "def changeword(N):\n",
    "    i=0\n",
    "    length=len(N)\n",
    "    while(i<length):\n",
    "        changevalue(N[i])\n",
    "        i+=1\n",
    "N=\"145\"\n",
    "changeword(N)"
   ]
  },
  {
   "cell_type": "code",
   "execution_count": null,
   "id": "e2abf3b1",
   "metadata": {},
   "outputs": [],
   "source": []
  }
 ],
 "metadata": {
  "kernelspec": {
   "display_name": "Python 3",
   "language": "python",
   "name": "python3"
  },
  "language_info": {
   "codemirror_mode": {
    "name": "ipython",
    "version": 3
   },
   "file_extension": ".py",
   "mimetype": "text/x-python",
   "name": "python",
   "nbconvert_exporter": "python",
   "pygments_lexer": "ipython3",
   "version": "3.8.8"
  }
 },
 "nbformat": 4,
 "nbformat_minor": 5
}
